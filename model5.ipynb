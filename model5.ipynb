{
 "cells": [
  {
   "cell_type": "code",
   "execution_count": 90,
   "metadata": {},
   "outputs": [],
   "source": [
    "import os\n",
    "import zipfile\n",
    "# import random\n",
    "# import shutil\n",
    "import tensorflow as tf\n",
    "from tensorflow.keras import datasets, layers, models\n",
    "from tensorflow.keras.preprocessing.image import ImageDataGenerator\n",
    "# from shutil import copyfile\n",
    "# import matplotlib.pyplot as plt\n",
    "# import psutil\n",
    "# import time\n",
    "\n",
    "from tensorflow.keras.applications import VGG16\n",
    "from tensorflow.keras.preprocessing.image import ImageDataGenerator\n",
    "from tensorflow.keras.layers import Dense, Input, GlobalAveragePooling2D\n",
    "from tensorflow.keras.models import Model\n",
    "from keras.models import Sequential\n",
    "from keras.layers import Dense, Dropout, Flatten\n",
    "from keras.layers import Conv2D, MaxPooling2D\n",
    "from keras.optimizers import SGD"
   ]
  },
  {
   "cell_type": "code",
   "execution_count": 91,
   "metadata": {},
   "outputs": [],
   "source": [
    "train_data_path = \"train\"\n",
    "validation_data_path = \"valid\"\n",
    "test_data_path = \"test\""
   ]
  },
  {
   "cell_type": "code",
   "execution_count": 92,
   "metadata": {},
   "outputs": [],
   "source": [
    "img_width, img_height = 150, 150\n",
    "# channel = (3, )\n",
    "input_shape = (img_width, img_height)\n",
    "# input_shape = tf.expand_dims(input_shape , -1)\n",
    "batch_size = 64"
   ]
  },
  {
   "cell_type": "code",
   "execution_count": 93,
   "metadata": {},
   "outputs": [],
   "source": [
    "train_datagen = ImageDataGenerator(\n",
    "    rescale=1.0 / 255,\n",
    "    rotation_range=40,\n",
    "    width_shift_range=0.2,\n",
    "    height_shift_range=0.2,\n",
    "    horizontal_flip=True,\n",
    "    shear_range=0.2,\n",
    "    zoom_range=0.2,\n",
    "    fill_mode='nearest'\n",
    "\n",
    ")\n",
    "\n",
    "validation_datagen = ImageDataGenerator(\n",
    "    rescale=1.0 / 255,\n",
    "    rotation_range=40,\n",
    "    width_shift_range=0.2,\n",
    "    height_shift_range=0.2,\n",
    "    horizontal_flip=True,\n",
    "    shear_range=0.2,\n",
    "    zoom_range=0.2,\n",
    "    fill_mode='nearest'\n",
    "\n",
    ")\n",
    "\n",
    "test_datagen = ImageDataGenerator(rescale=1.0 / 255,\n",
    "                                  rotation_range=40,\n",
    "                                  width_shift_range=0.2,\n",
    "                                  height_shift_range=0.2,\n",
    "                                  horizontal_flip=True,\n",
    "                                  shear_range=0.2,\n",
    "                                  zoom_range=0.2,\n",
    "                                  fill_mode='nearest'\n",
    "\n",
    "                                  )"
   ]
  },
  {
   "cell_type": "code",
   "execution_count": 94,
   "metadata": {},
   "outputs": [
    {
     "name": "stdout",
     "output_type": "stream",
     "text": [
      "Found 260915 images belonging to 14 classes.\n",
      "Found 47531 images belonging to 14 classes.\n",
      "Found 137375 images belonging to 14 classes.\n"
     ]
    }
   ],
   "source": [
    "train_generator = train_datagen.flow_from_directory(\n",
    "    train_data_path,\n",
    "    target_size=input_shape,\n",
    "    batch_size=batch_size,\n",
    "    class_mode=\"categorical\",\n",
    ")\n",
    "\n",
    "validation_generator = validation_datagen.flow_from_directory(\n",
    "    validation_data_path,\n",
    "    target_size=input_shape,\n",
    "    batch_size=batch_size,\n",
    "    class_mode='categorical')\n",
    "\n",
    "test_generator = test_datagen.flow_from_directory(test_data_path,\n",
    "                                                  target_size=input_shape,\n",
    "                                                  batch_size=batch_size,\n",
    "                                                  class_mode='categorical',\n",
    "                                                  shuffle=True)"
   ]
  },
  {
   "cell_type": "code",
   "execution_count": 95,
   "metadata": {},
   "outputs": [
    {
     "name": "stdout",
     "output_type": "stream",
     "text": [
      "14\n",
      "14\n",
      "14\n"
     ]
    }
   ],
   "source": [
    "def tf_data_generator(generator, input_shape):\n",
    "  num_class = generator.num_classes\n",
    "  print(num_class)\n",
    "\n",
    "  # Define a separate function for generating data\n",
    "  def _generator():\n",
    "    for images, labels in generator:\n",
    "      yield images, labels\n",
    "\n",
    "  # Create the tf.data.Dataset from the non-decorated function\n",
    "  tf_generator = tf.data.Dataset.from_generator(\n",
    "      _generator,\n",
    "      output_types=(tf.float32, tf.float32),\n",
    "      output_shapes=([None, input_shape[0], input_shape[1], None],\n",
    "                     [None, num_class])\n",
    "  )\n",
    "\n",
    "  return tf_generator\n",
    "\n",
    "\n",
    "train_data_generator = tf_data_generator(train_generator, input_shape)\n",
    "test_data_generator = tf_data_generator(test_generator, input_shape)\n",
    "val_data_generator = tf_data_generator(validation_generator, input_shape)"
   ]
  },
  {
   "cell_type": "code",
   "execution_count": 96,
   "metadata": {},
   "outputs": [],
   "source": [
    "from tensorflow.keras.applications import MobileNetV2"
   ]
  },
  {
   "cell_type": "code",
   "execution_count": 97,
   "metadata": {},
   "outputs": [
    {
     "name": "stdout",
     "output_type": "stream",
     "text": [
      "WARNING:tensorflow:`input_shape` is undefined or non-square, or `rows` is not in [96, 128, 160, 192, 224]. Weights for input shape (224, 224) will be loaded as the default.\n"
     ]
    },
    {
     "name": "stderr",
     "output_type": "stream",
     "text": [
      "WARNING:tensorflow:`input_shape` is undefined or non-square, or `rows` is not in [96, 128, 160, 192, 224]. Weights for input shape (224, 224) will be loaded as the default.\n"
     ]
    }
   ],
   "source": [
    "def create_model(img_width, img_height, num_classes):\n",
    "\n",
    "    # model = Sequential([\n",
    "        # tf.keras.layers.Conv2D(\n",
    "        #     32, (3, 3), activation='relu', input_shape=(img_width, img_height, 3), kernel_initializer='he_uniform'),\n",
    "        # tf.keras.layers.BatchNormalization(),\n",
    "        \n",
    "        # Conv2D(32, kernel_size=(3, 3), activation='relu', kernel_initializer='he_uniform'),\n",
    "        # tf.keras.layers.BatchNormalization(),\n",
    "        # MaxPooling2D(pool_size=(2, 2)),\n",
    "        # Dropout(0.25),\n",
    "        \n",
    "        # Conv2D(64, kernel_size=(3, 3), activation='relu',\n",
    "        #        kernel_initializer='he_uniform'),\n",
    "        # tf.keras.layers.BatchNormalization(),\n",
    "        # Dropout(0.25),\n",
    "        \n",
    "        # Conv2D(128, kernel_size=(3, 3), activation='relu',\n",
    "        #        kernel_initializer='he_uniform'),\n",
    "        # tf.keras.layers.BatchNormalization(),\n",
    "        # MaxPooling2D(pool_size=(2, 2)),\n",
    "        # Dropout(0.25),\n",
    "        \n",
    "        # Flatten(),\n",
    "        \n",
    "        # Dense(512, activation='relu', kernel_initializer='he_uniform'),\n",
    "        # tf.keras.layers.BatchNormalization(),\n",
    "        # Dropout(0.5),\n",
    "        \n",
    "        # Dense(128, activation='relu', kernel_initializer='he_uniform'),\n",
    "        # tf.keras.layers.BatchNormalization(),\n",
    "        # Dropout(0.5),\n",
    "        \n",
    "        # Dense(14, activation='softmax'),\n",
    "        \n",
    "        \n",
    "        \n",
    "        \n",
    "        \n",
    "\n",
    "        # tf.keras.layers.Conv2D(\n",
    "        #     8, (3, 3), activation='relu', input_shape=(img_width, img_height, 3), kernel_initializer='he_uniform'),\n",
    "        # tf.keras.layers.Conv2D(8, (3, 3), activation='relu'),\n",
    "        # tf.keras.layers.MaxPooling2D(2, 2),\n",
    "\n",
    "        # tf.keras.layers.Conv2D(16, (3, 3), activation='relu', kernel_initializer='he_uniform'),\n",
    "        # tf.keras.layers.Conv2D(16, (3, 3), activation='relu', kernel_initializer='he_uniform'),\n",
    "        # tf.keras.layers.MaxPooling2D(2, 2),\n",
    "\n",
    "        # tf.keras.layers.Conv2D(32, (3, 3), activation='relu', kernel_initializer='he_uniform'),\n",
    "        # tf.keras.layers.Conv2D(32, (3, 3), activation='relu', kernel_initializer='he_uniform'),\n",
    "        # tf.keras.layers.MaxPooling2D(2, 2),\n",
    "\n",
    "        # tf.keras.layers.Conv2D(64, (3, 3), activation='relu', kernel_initializer='he_uniform'),\n",
    "        # tf.keras.layers.Conv2D(64, (3, 3), activation='relu', kernel_initializer='he_uniform'),\n",
    "        # tf.keras.layers.MaxPooling2D(2, 2),\n",
    "\n",
    "        # tf.keras.layers.Flatten(),\n",
    "        # tf.keras.layers.Dense(512, activation='relu'),\n",
    "        # tf.keras.layers.Dropout(0.3),\n",
    "        # tf.keras.layers.Dense(14, activation='softmax'),\n",
    "    # ])\n",
    "    \n",
    "    base_model = MobileNetV2(\n",
    "    input_shape=input_shape + (3,),\n",
    "    include_top=False,\n",
    "    weights='imagenet',\n",
    "    classes=num_classes,\n",
    "    )\n",
    "        \n",
    "    x = base_model.output\n",
    "    x = layers.GlobalAveragePooling2D()(x)\n",
    "    x = layers.Dropout(0.2)(x)\n",
    "    \n",
    "    # x = layers.Conv2D(8, (3, 3), activation='relu', input_shape=(img_width, img_height, 3), kernel_initializer='he_uniform')(x)\n",
    "    # x = layers.Conv2D(8, (3, 3), activation='relu')(x)\n",
    "    # x = layers.MaxPooling2D(2, 2)(x)\n",
    "    \n",
    "    # x = layers.Conv2D(16, (3, 3), activation='relu', kernel_initializer='he_uniform')(x)\n",
    "    # x = layers.Conv2D(16, (3, 3), activation='relu', kernel_initializer='he_uniform')(x)\n",
    "    # x = layers.MaxPooling2D(2, 2)(x)\n",
    "    \n",
    "    # x = layers.Conv2D(32, (3, 3), activation='relu', kernel_initializer='he_uniform')(x)\n",
    "    # x = layers.Conv2D(32, (3, 3), activation='relu', kernel_initializer='he_uniform')(x)\n",
    "    # x = layers.MaxPooling2D(2, 2)(x)\n",
    "    \n",
    "    # x = layers.Conv2D(64, (3, 3), activation='relu', kernel_initializer='he_uniform')(x)\n",
    "    # x = layers.Conv2D(64, (3, 3), activation='relu', kernel_initializer='he_uniform')(x)\n",
    "    # x = layers.MaxPooling2D(2, 2)(x)\n",
    "    \n",
    "    # x = layers.Flatten()(x)\n",
    "    # x = layers.Dense(512, activation=\"relu\")(x)\n",
    "    # x = layers.Dropout(0.3)(x)\n",
    "    x = layers.Dense(1024, activation=\"relu\")(x)\n",
    "    \n",
    "    \n",
    "    predictions = layers.Dense(num_classes, activation=\"softmax\")(x)\n",
    "    model = Model(inputs=base_model.input, outputs=predictions)\n",
    "\n",
    "    return model\n",
    "\n",
    "\n",
    "model = create_model(img_width, img_height, 14)"
   ]
  },
  {
   "cell_type": "code",
   "execution_count": 98,
   "metadata": {},
   "outputs": [
    {
     "name": "stderr",
     "output_type": "stream",
     "text": [
      "WARNING:absl:`lr` is deprecated in Keras optimizer, please use `learning_rate` or use the legacy optimizer, e.g.,tf.keras.optimizers.legacy.SGD.\n"
     ]
    }
   ],
   "source": [
    "opt = SGD(lr=0.01, momentum=0.9)\n",
    "model.compile(\n",
    "    loss=\"categorical_crossentropy\",\n",
    "    # optimizer=\"adam\",\n",
    "    optimizer=opt,\n",
    "    metrics=[\"accuracy\", \"categorical_crossentropy\"],\n",
    ")"
   ]
  },
  {
   "cell_type": "code",
   "execution_count": 99,
   "metadata": {},
   "outputs": [
    {
     "name": "stdout",
     "output_type": "stream",
     "text": [
      "You must install pydot (`pip install pydot`) and install graphviz (see instructions at https://graphviz.gitlab.io/download/) for plot_model to work.\n"
     ]
    }
   ],
   "source": [
    "model_viz = tf.keras.utils.plot_model(model,\n",
    "                                      to_file='model.png',\n",
    "                                      show_shapes=True,\n",
    "                                      show_layer_names=True,\n",
    "                                      rankdir='TB',\n",
    "                                      expand_nested=True,\n",
    "                                      dpi=55)\n",
    "model_viz"
   ]
  },
  {
   "cell_type": "code",
   "execution_count": 100,
   "metadata": {},
   "outputs": [
    {
     "name": "stdout",
     "output_type": "stream",
     "text": [
      "Epoch 1/30\n"
     ]
    },
    {
     "name": "stdout",
     "output_type": "stream",
     "text": [
      "63/63 [==============================] - 158s 2s/step - loss: 2.4881 - accuracy: 0.1902 - categorical_crossentropy: 2.4881 - val_loss: 4.3897 - val_accuracy: 0.1207 - val_categorical_crossentropy: 4.3897\n",
      "Epoch 2/30\n",
      "63/63 [==============================] - 182s 3s/step - loss: 2.2961 - accuracy: 0.2413 - categorical_crossentropy: 2.2961 - val_loss: 5.8255 - val_accuracy: 0.1136 - val_categorical_crossentropy: 5.8255\n",
      "Epoch 3/30\n",
      "63/63 [==============================] - 236s 4s/step - loss: 2.2732 - accuracy: 0.2470 - categorical_crossentropy: 2.2732 - val_loss: 4.9295 - val_accuracy: 0.1264 - val_categorical_crossentropy: 4.9295\n",
      "Epoch 4/30\n",
      "63/63 [==============================] - 315s 5s/step - loss: 2.1955 - accuracy: 0.2842 - categorical_crossentropy: 2.1955 - val_loss: 5.8206 - val_accuracy: 0.1108 - val_categorical_crossentropy: 5.8206\n",
      "Epoch 5/30\n",
      "63/63 [==============================] - 367s 6s/step - loss: 2.1964 - accuracy: 0.2924 - categorical_crossentropy: 2.1964 - val_loss: 3.6781 - val_accuracy: 0.1364 - val_categorical_crossentropy: 3.6781\n",
      "Epoch 6/30\n",
      "63/63 [==============================] - 438s 7s/step - loss: 2.1421 - accuracy: 0.3046 - categorical_crossentropy: 2.1421 - val_loss: 5.0182 - val_accuracy: 0.1193 - val_categorical_crossentropy: 5.0182\n",
      "Epoch 7/30\n",
      "63/63 [==============================] - 491s 8s/step - loss: 2.0802 - accuracy: 0.3222 - categorical_crossentropy: 2.0802 - val_loss: 3.6693 - val_accuracy: 0.2060 - val_categorical_crossentropy: 3.6693\n",
      "Epoch 8/30\n",
      "63/63 [==============================] - 602s 10s/step - loss: 2.0957 - accuracy: 0.3247 - categorical_crossentropy: 2.0957 - val_loss: 5.0043 - val_accuracy: 0.1165 - val_categorical_crossentropy: 5.0043\n",
      "Epoch 9/30\n",
      "63/63 [==============================] - 616s 10s/step - loss: 2.0421 - accuracy: 0.3457 - categorical_crossentropy: 2.0421 - val_loss: 3.1373 - val_accuracy: 0.2060 - val_categorical_crossentropy: 3.1373\n",
      "Epoch 10/30\n",
      "63/63 [==============================] - 680s 11s/step - loss: 2.0735 - accuracy: 0.3336 - categorical_crossentropy: 2.0735 - val_loss: 3.1398 - val_accuracy: 0.1974 - val_categorical_crossentropy: 3.1398\n",
      "Epoch 11/30\n",
      "63/63 [==============================] - 748s 12s/step - loss: 2.0136 - accuracy: 0.3442 - categorical_crossentropy: 2.0136 - val_loss: 3.4966 - val_accuracy: 0.1974 - val_categorical_crossentropy: 3.4966\n",
      "Epoch 12/30\n",
      "63/63 [==============================] - 803s 13s/step - loss: 2.0165 - accuracy: 0.3564 - categorical_crossentropy: 2.0165 - val_loss: 3.2936 - val_accuracy: 0.2003 - val_categorical_crossentropy: 3.2936\n",
      "Epoch 13/30\n",
      "63/63 [==============================] - 891s 14s/step - loss: 2.0212 - accuracy: 0.3435 - categorical_crossentropy: 2.0212 - val_loss: 3.0912 - val_accuracy: 0.2500 - val_categorical_crossentropy: 3.0912\n",
      "Epoch 14/30\n",
      "63/63 [==============================] - 954s 15s/step - loss: 2.0058 - accuracy: 0.3532 - categorical_crossentropy: 2.0058 - val_loss: 3.7592 - val_accuracy: 0.1790 - val_categorical_crossentropy: 3.7592\n",
      "Epoch 15/30\n",
      "63/63 [==============================] - 1022s 16s/step - loss: 1.9667 - accuracy: 0.3700 - categorical_crossentropy: 1.9667 - val_loss: 3.9393 - val_accuracy: 0.2472 - val_categorical_crossentropy: 3.9393\n",
      "Epoch 16/30\n",
      "63/63 [==============================] - 1101s 17s/step - loss: 2.0001 - accuracy: 0.3554 - categorical_crossentropy: 2.0001 - val_loss: 3.4698 - val_accuracy: 0.2500 - val_categorical_crossentropy: 3.4698\n",
      "Epoch 17/30\n",
      "63/63 [==============================] - 1189s 19s/step - loss: 1.9679 - accuracy: 0.3695 - categorical_crossentropy: 1.9679 - val_loss: 3.6715 - val_accuracy: 0.2173 - val_categorical_crossentropy: 3.6715\n",
      "Epoch 18/30\n",
      "63/63 [==============================] - 1286s 20s/step - loss: 1.9342 - accuracy: 0.3837 - categorical_crossentropy: 1.9342 - val_loss: 3.7528 - val_accuracy: 0.1989 - val_categorical_crossentropy: 3.7528\n"
     ]
    }
   ],
   "source": [
    "from tensorflow.keras.callbacks import EarlyStopping\n",
    "early_stopping = EarlyStopping(monitor=\"val_loss\", patience=10)\n",
    "\n",
    "history1 = model.fit(\n",
    "    train_data_generator,\n",
    "    steps_per_epoch=len(train_generator) // train_generator.batch_size,\n",
    "    epochs=30,\n",
    "    validation_data=val_data_generator,\n",
    "    validation_steps=len(\n",
    "        validation_generator) // validation_generator.batch_size,\n",
    "    callbacks=[early_stopping],\n",
    ")"
   ]
  },
  {
   "cell_type": "code",
   "execution_count": 101,
   "metadata": {},
   "outputs": [
    {
     "data": {
      "image/png": "[encoded data removed]",
      "text/plain": [
       "<Figure size 432x288 with 1 Axes>"
      ]
     },
     "metadata": {
      "needs_background": "light"
     },
     "output_type": "display_data"
    },
    {
     "data": {
      "image/png": "[encoded data removed]",
      "text/plain": [
       "<Figure size 432x288 with 1 Axes>"
      ]
     },
     "metadata": {
      "needs_background": "light"
     },
     "output_type": "display_data"
    }
   ],
   "source": [
    "import matplotlib.pyplot as plt\n",
    "%matplotlib inline\n",
    "\n",
    "accuracy = history1.history['accuracy']\n",
    "val_accuracy = history1.history['val_accuracy']\n",
    "loss = history1.history['loss']\n",
    "val_loss = history1.history['val_loss']\n",
    "epochs = range(len(accuracy))\n",
    "\n",
    "plt.plot(epochs, accuracy, 'bo', label='Training accuracy')\n",
    "plt.plot(epochs, val_accuracy, 'b', label='Validation accuracy')\n",
    "plt.title('Training and validation accuracy')\n",
    "plt.legend()\n",
    "plt.figure()\n",
    "\n",
    "plt.plot(epochs, loss, 'bo', label='Training loss')\n",
    "plt.plot(epochs, val_loss, 'b', label='Validation loss')\n",
    "plt.title('Training and validation loss')\n",
    "plt.legend()\n",
    "plt.show()"
   ]
  },
  {
   "cell_type": "code",
   "execution_count": null,
   "metadata": {},
   "outputs": [],
   "source": []
  }
 ],
 "metadata": {
  "kernelspec": {
   "display_name": "Python 3",
   "language": "python",
   "name": "python3"
  },
  "language_info": {
   "codemirror_mode": {
    "name": "ipython",
    "version": 3
   },
   "file_extension": ".py",
   "mimetype": "text/x-python",
   "name": "python",
   "nbconvert_exporter": "python",
   "pygments_lexer": "ipython3",
   "version": "3.10.0"
  }
 },
 "nbformat": 4,
 "nbformat_minor": 2
}
