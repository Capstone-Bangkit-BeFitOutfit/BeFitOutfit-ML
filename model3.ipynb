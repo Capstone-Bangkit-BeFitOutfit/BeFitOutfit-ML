{
 "cells": [
  {
   "cell_type": "code",
   "execution_count": 1,
   "metadata": {},
   "outputs": [],
   "source": [
    "import os\n",
    "import zipfile\n",
    "# import random\n",
    "# import shutil\n",
    "import tensorflow as tf\n",
    "from tensorflow.keras import datasets, layers, models\n",
    "from tensorflow.keras.preprocessing.image import ImageDataGenerator\n",
    "# from shutil import copyfile\n",
    "# import matplotlib.pyplot as plt\n",
    "# import psutil\n",
    "# import time\n",
    "\n",
    "from tensorflow.keras.applications import VGG16\n",
    "from tensorflow.keras.preprocessing.image import ImageDataGenerator\n",
    "from tensorflow.keras.layers import Dense, Input, GlobalAveragePooling2D\n",
    "from tensorflow.keras.models import Model\n",
    "from keras.models import Sequential\n",
    "from keras.layers import Dense, Dropout, Flatten\n",
    "from keras.layers import Conv2D, MaxPooling2D"
   ]
  },
  {
   "cell_type": "code",
   "execution_count": 2,
   "metadata": {},
   "outputs": [],
   "source": [
    "train_data_path = \"train\"\n",
    "validation_data_path = \"valid\"\n",
    "test_data_path = \"test\""
   ]
  },
  {
   "cell_type": "code",
   "execution_count": 3,
   "metadata": {},
   "outputs": [],
   "source": [
    "img_width, img_height = 150, 150\n",
    "# channel = (3, )\n",
    "input_shape = (img_width, img_height)\n",
    "# input_shape = tf.expand_dims(input_shape , -1)\n",
    "batch_size = 32"
   ]
  },
  {
   "cell_type": "code",
   "execution_count": 4,
   "metadata": {},
   "outputs": [],
   "source": [
    "train_datagen = ImageDataGenerator(\n",
    "    rescale=1.0 / 255,\n",
    "    rotation_range=40,\n",
    "    width_shift_range=0.2,\n",
    "    height_shift_range=0.2,\n",
    "    horizontal_flip=True,\n",
    "    shear_range=0.2,\n",
    "    zoom_range=0.2,\n",
    "    # fill_mode='nearest'\n",
    "\n",
    ")\n",
    "\n",
    "validation_datagen = ImageDataGenerator(\n",
    "    rescale=1.0 / 255,\n",
    "    rotation_range=40,\n",
    "    width_shift_range=0.2,\n",
    "    height_shift_range=0.2,\n",
    "    horizontal_flip=True,\n",
    "    shear_range=0.2,\n",
    "    zoom_range=0.2,\n",
    "    # fill_mode='nearest'\n",
    "\n",
    ")\n",
    "\n",
    "test_datagen = ImageDataGenerator(rescale=1.0 / 255,\n",
    "                                  rotation_range=40,\n",
    "                                  width_shift_range=0.2,\n",
    "                                  height_shift_range=0.2,\n",
    "                                  horizontal_flip=True,\n",
    "                                  shear_range=0.2,\n",
    "                                  zoom_range=0.2,\n",
    "                                  #   fill_mode='nearest'\n",
    "\n",
    "                                  )"
   ]
  },
  {
   "cell_type": "code",
   "execution_count": 5,
   "metadata": {},
   "outputs": [
    {
     "name": "stdout",
     "output_type": "stream",
     "text": [
      "Found 260915 images belonging to 14 classes.\n",
      "Found 47531 images belonging to 14 classes.\n",
      "Found 137375 images belonging to 14 classes.\n"
     ]
    }
   ],
   "source": [
    "train_generator = train_datagen.flow_from_directory(\n",
    "    train_data_path,\n",
    "    target_size=input_shape,\n",
    "    batch_size=batch_size,\n",
    "    class_mode=\"categorical\",\n",
    ")\n",
    "\n",
    "validation_generator = validation_datagen.flow_from_directory(\n",
    "    validation_data_path,\n",
    "    target_size=input_shape,\n",
    "    batch_size=batch_size,\n",
    "    class_mode='categorical')\n",
    "\n",
    "test_generator = test_datagen.flow_from_directory(test_data_path,\n",
    "                                                  target_size=input_shape,\n",
    "                                                  batch_size=batch_size,\n",
    "                                                  class_mode='categorical',\n",
    "                                                  shuffle=True)"
   ]
  },
  {
   "cell_type": "code",
   "execution_count": 6,
   "metadata": {},
   "outputs": [
    {
     "name": "stdout",
     "output_type": "stream",
     "text": [
      "14\n",
      "14\n",
      "14\n"
     ]
    }
   ],
   "source": [
    "def tf_data_generator(generator, input_shape):\n",
    "    num_class = generator.num_classes\n",
    "    print(num_class)\n",
    "    tf_generator = tf.data.Dataset.from_generator(\n",
    "        lambda: generator,\n",
    "        output_types=(tf.float32, tf.float32),\n",
    "        output_shapes=([None, input_shape[0], input_shape[1]],\n",
    "                       [None, num_class])\n",
    "    )\n",
    "    return tf_generator\n",
    "\n",
    "\n",
    "train_data = tf_data_generator(train_generator, input_shape)\n",
    "test_data = tf_data_generator(test_generator, input_shape)\n",
    "val_data = tf_data_generator(validation_generator, input_shape)"
   ]
  },
  {
   "cell_type": "code",
   "execution_count": 7,
   "metadata": {},
   "outputs": [],
   "source": [
    "def create_model(img_width, img_height, num_classes):\n",
    "    \n",
    "    model = Sequential([\n",
    "        Conv2D(32, kernel_size=(3, 3), activation=\"relu\",\n",
    "               input_shape=(img_height, img_width, 3)),\n",
    "        MaxPooling2D(pool_size=(2, 2)),\n",
    "        Dropout(0.2),\n",
    "        Flatten(),\n",
    "        Dense(128, activation='relu'),\n",
    "        Dense(14, activation='softmax')\n",
    "    ])\n",
    "\n",
    "    return model\n",
    "\n",
    "\n",
    "model = create_model(img_width, img_height, 14)"
   ]
  },
  {
   "cell_type": "code",
   "execution_count": 8,
   "metadata": {},
   "outputs": [],
   "source": [
    "model.compile(\n",
    "    loss=\"categorical_crossentropy\",\n",
    "    optimizer=\"adam\",\n",
    "    metrics=[\"accuracy\", \"categorical_crossentropy\"],\n",
    ")"
   ]
  },
  {
   "cell_type": "code",
   "execution_count": 9,
   "metadata": {},
   "outputs": [
    {
     "name": "stdout",
     "output_type": "stream",
     "text": [
      "You must install pydot (`pip install pydot`) and install graphviz (see instructions at https://graphviz.gitlab.io/download/) for plot_model to work.\n"
     ]
    }
   ],
   "source": [
    "model_viz = tf.keras.utils.plot_model(model,\n",
    "                                      to_file='model.png',\n",
    "                                      show_shapes=True,\n",
    "                                      show_layer_names=True,\n",
    "                                      rankdir='TB',\n",
    "                                      expand_nested=True,\n",
    "                                      dpi=55)\n",
    "model_viz"
   ]
  },
  {
   "cell_type": "code",
   "execution_count": 10,
   "metadata": {},
   "outputs": [
    {
     "name": "stdout",
     "output_type": "stream",
     "text": [
      "Epoch 1/20\n",
      "254/254 [==============================] - 152s 595ms/step - loss: 2.7842 - accuracy: 0.1617 - categorical_crossentropy: 2.7842 - val_loss: 2.4115 - val_accuracy: 0.2092 - val_categorical_crossentropy: 2.4115\n",
      "Epoch 2/20\n",
      "254/254 [==============================] - 129s 507ms/step - loss: 2.4256 - accuracy: 0.1966 - categorical_crossentropy: 2.4256 - val_loss: 2.4243 - val_accuracy: 0.1787 - val_categorical_crossentropy: 2.4243\n",
      "Epoch 3/20\n",
      "254/254 [==============================] - 124s 489ms/step - loss: 2.3984 - accuracy: 0.2050 - categorical_crossentropy: 2.3984 - val_loss: 2.4131 - val_accuracy: 0.2024 - val_categorical_crossentropy: 2.4131\n",
      "Epoch 4/20\n",
      "254/254 [==============================] - 124s 489ms/step - loss: 2.3833 - accuracy: 0.2130 - categorical_crossentropy: 2.3833 - val_loss: 2.3662 - val_accuracy: 0.2255 - val_categorical_crossentropy: 2.3662\n",
      "Epoch 5/20\n",
      "254/254 [==============================] - 124s 489ms/step - loss: 2.3570 - accuracy: 0.2221 - categorical_crossentropy: 2.3570 - val_loss: 2.4005 - val_accuracy: 0.2201 - val_categorical_crossentropy: 2.4005\n",
      "Epoch 6/20\n",
      "254/254 [==============================] - 127s 500ms/step - loss: 2.3538 - accuracy: 0.2244 - categorical_crossentropy: 2.3538 - val_loss: 2.3314 - val_accuracy: 0.2201 - val_categorical_crossentropy: 2.3314\n",
      "Epoch 7/20\n",
      "254/254 [==============================] - 128s 503ms/step - loss: 2.3503 - accuracy: 0.2259 - categorical_crossentropy: 2.3503 - val_loss: 2.3066 - val_accuracy: 0.2480 - val_categorical_crossentropy: 2.3066\n",
      "Epoch 8/20\n",
      "254/254 [==============================] - 128s 502ms/step - loss: 2.3372 - accuracy: 0.2372 - categorical_crossentropy: 2.3372 - val_loss: 2.3880 - val_accuracy: 0.2262 - val_categorical_crossentropy: 2.3880\n",
      "Epoch 9/20\n",
      "254/254 [==============================] - 125s 494ms/step - loss: 2.3255 - accuracy: 0.2377 - categorical_crossentropy: 2.3255 - val_loss: 2.3140 - val_accuracy: 0.2486 - val_categorical_crossentropy: 2.3140\n",
      "Epoch 10/20\n",
      "254/254 [==============================] - 127s 502ms/step - loss: 2.3052 - accuracy: 0.2416 - categorical_crossentropy: 2.3052 - val_loss: 2.3216 - val_accuracy: 0.2480 - val_categorical_crossentropy: 2.3216\n",
      "Epoch 11/20\n",
      "254/254 [==============================] - 122s 479ms/step - loss: 2.3367 - accuracy: 0.2331 - categorical_crossentropy: 2.3367 - val_loss: 2.3524 - val_accuracy: 0.2289 - val_categorical_crossentropy: 2.3524\n",
      "Epoch 12/20\n",
      "254/254 [==============================] - 123s 482ms/step - loss: 2.3068 - accuracy: 0.2426 - categorical_crossentropy: 2.3068 - val_loss: 2.3446 - val_accuracy: 0.2385 - val_categorical_crossentropy: 2.3446\n"
     ]
    }
   ],
   "source": [
    "from tensorflow.keras.callbacks import EarlyStopping\n",
    "early_stopping = EarlyStopping(monitor=\"val_loss\", patience=5)\n",
    "\n",
    "history1 = model.fit(\n",
    "    train_generator,\n",
    "    steps_per_epoch=len(train_generator) // train_generator.batch_size,\n",
    "    epochs=20,\n",
    "    validation_data=validation_generator,\n",
    "    validation_steps=len(\n",
    "        validation_generator) // validation_generator.batch_size,\n",
    "    callbacks=[early_stopping],\n",
    ")"
   ]
  },
  {
   "cell_type": "code",
   "execution_count": 12,
   "metadata": {},
   "outputs": [
    {
     "data": {
      "image/png": "[encoded data removed]",
      "text/plain": [
       "<Figure size 432x288 with 1 Axes>"
      ]
     },
     "metadata": {
      "needs_background": "light"
     },
     "output_type": "display_data"
    },
    {
     "data": {
      "image/png": "[encoded data removed]",
      "text/plain": [
       "<Figure size 432x288 with 1 Axes>"
      ]
     },
     "metadata": {
      "needs_background": "light"
     },
     "output_type": "display_data"
    }
   ],
   "source": [
    "import matplotlib.pyplot as plt\n",
    "%matplotlib inline\n",
    "\n",
    "accuracy = history1.history['accuracy']\n",
    "val_accuracy = history1.history['val_accuracy']\n",
    "loss = history1.history['loss']\n",
    "val_loss = history1.history['val_loss']\n",
    "epochs = range(len(accuracy))\n",
    "\n",
    "plt.plot(epochs, accuracy, 'bo', label='Training accuracy')\n",
    "plt.plot(epochs, val_accuracy, 'b', label='Validation accuracy')\n",
    "plt.title('Training and validation accuracy')\n",
    "plt.legend()\n",
    "plt.figure()\n",
    "\n",
    "plt.plot(epochs, loss, 'bo', label='Training loss')\n",
    "plt.plot(epochs, val_loss, 'b', label='Validation loss')\n",
    "plt.title('Training and validation loss')\n",
    "plt.legend()\n",
    "plt.show()"
   ]
  },
  {
   "cell_type": "code",
   "execution_count": null,
   "metadata": {},
   "outputs": [],
   "source": []
  }
 ],
 "metadata": {
  "kernelspec": {
   "display_name": "Python 3",
   "language": "python",
   "name": "python3"
  },
  "language_info": {
   "codemirror_mode": {
    "name": "ipython",
    "version": 3
   },
   "file_extension": ".py",
   "mimetype": "text/x-python",
   "name": "python",
   "nbconvert_exporter": "python",
   "pygments_lexer": "ipython3",
   "version": "3.10.0"
  }
 },
 "nbformat": 4,
 "nbformat_minor": 2
}
