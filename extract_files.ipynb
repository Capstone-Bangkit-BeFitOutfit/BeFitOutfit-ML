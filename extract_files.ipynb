{
 "cells": [
  {
   "cell_type": "code",
   "execution_count": 7,
   "metadata": {},
   "outputs": [],
   "source": [
    "import zipfile"
   ]
  },
  {
   "cell_type": "code",
   "execution_count": 8,
   "metadata": {},
   "outputs": [
    {
     "name": "stdout",
     "output_type": "stream",
     "text": [
      "train/\n",
      "train/0/\n",
      "train/1/\n",
      "train/2/\n",
      "train/3/\n",
      "train/4/\n",
      "train/5/\n",
      "train/6/\n",
      "train/7/\n",
      "train/8/\n",
      "train/9/\n",
      "train/10/\n",
      "train/11/\n",
      "train/12/\n",
      "train/13/\n"
     ]
    }
   ],
   "source": [
    "with zipfile.ZipFile('train.zip', 'r') as zip_ref:\n",
    "  # Get the list of files and directories in the archive\n",
    "  zip_info_list = zip_ref.infolist()\n",
    "\n",
    "  # Filter the list to include only directories\n",
    "  directories = [info for info in zip_info_list if info.is_dir()]\n",
    "\n",
    "  # Print the names of the directories\n",
    "  for directory in directories:\n",
    "    print(directory.filename)"
   ]
  },
  {
   "cell_type": "code",
   "execution_count": 20,
   "metadata": {},
   "outputs": [],
   "source": [
    "files_path = []\n",
    "\n",
    "with zipfile.ZipFile('test.zip', 'r') as zip_ref:\n",
    "    for file in zip_ref.namelist():\n",
    "        if file.startswith('test/1/') or file.startswith('test/2/') or file.startswith('test/3/') \\\n",
    "                    or file.startswith('test/4/') or file.startswith('test/5/') \\\n",
    "                or file.startswith('test/6/'):\n",
    "            files_path.append(file)\n",
    "    \n",
    "    zip_ref.extractall(members=files_path)"
   ]
  },
  {
   "cell_type": "code",
   "execution_count": null,
   "metadata": {},
   "outputs": [],
   "source": []
  }
 ],
 "metadata": {
  "kernelspec": {
   "display_name": "Python 3",
   "language": "python",
   "name": "python3"
  },
  "language_info": {
   "codemirror_mode": {
    "name": "ipython",
    "version": 3
   },
   "file_extension": ".py",
   "mimetype": "text/x-python",
   "name": "python",
   "nbconvert_exporter": "python",
   "pygments_lexer": "ipython3",
   "version": "3.10.0"
  }
 },
 "nbformat": 4,
 "nbformat_minor": 2
}
