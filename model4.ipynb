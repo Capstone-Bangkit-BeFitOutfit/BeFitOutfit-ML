{
 "cells": [
  {
   "cell_type": "code",
   "execution_count": 30,
   "metadata": {},
   "outputs": [],
   "source": [
    "import os\n",
    "import zipfile\n",
    "# import random\n",
    "# import shutil\n",
    "import tensorflow as tf\n",
    "from tensorflow.keras import datasets, layers, models\n",
    "from tensorflow.keras.preprocessing.image import ImageDataGenerator\n",
    "# from shutil import copyfile\n",
    "# import matplotlib.pyplot as plt\n",
    "# import psutil\n",
    "# import time\n",
    "\n",
    "from tensorflow.keras.applications import VGG16\n",
    "from tensorflow.keras.preprocessing.image import ImageDataGenerator\n",
    "from tensorflow.keras.layers import Dense, Input, GlobalAveragePooling2D\n",
    "from tensorflow.keras.models import Model\n",
    "from keras.models import Sequential\n",
    "from keras.layers import Dense, Dropout, Flatten\n",
    "from keras.layers import Conv2D, MaxPooling2D"
   ]
  },
  {
   "cell_type": "code",
   "execution_count": 31,
   "metadata": {},
   "outputs": [],
   "source": [
    "train_data_path = \"train\"\n",
    "validation_data_path = \"valid\"\n",
    "test_data_path = \"test\""
   ]
  },
  {
   "cell_type": "code",
   "execution_count": 32,
   "metadata": {},
   "outputs": [],
   "source": [
    "img_width, img_height = 150, 150\n",
    "# channel = (3, )\n",
    "input_shape = (img_width, img_height)\n",
    "# input_shape = tf.expand_dims(input_shape , -1)\n",
    "batch_size = 32"
   ]
  },
  {
   "cell_type": "code",
   "execution_count": 33,
   "metadata": {},
   "outputs": [],
   "source": [
    "train_datagen = ImageDataGenerator(\n",
    "    rescale=1.0 / 255,\n",
    "    rotation_range=40,\n",
    "    width_shift_range=0.2,\n",
    "    height_shift_range=0.2,\n",
    "    horizontal_flip=True,\n",
    "    shear_range=0.2,\n",
    "    zoom_range=0.2,\n",
    "    fill_mode='nearest'\n",
    "\n",
    ")\n",
    "\n",
    "validation_datagen = ImageDataGenerator(\n",
    "    rescale=1.0 / 255,\n",
    "    rotation_range=40,\n",
    "    width_shift_range=0.2,\n",
    "    height_shift_range=0.2,\n",
    "    horizontal_flip=True,\n",
    "    shear_range=0.2,\n",
    "    zoom_range=0.2,\n",
    "    fill_mode='nearest'\n",
    "\n",
    ")\n",
    "\n",
    "test_datagen = ImageDataGenerator(rescale=1.0 / 255,\n",
    "                                  rotation_range=40,\n",
    "                                  width_shift_range=0.2,\n",
    "                                  height_shift_range=0.2,\n",
    "                                  horizontal_flip=True,\n",
    "                                  shear_range=0.2,\n",
    "                                  zoom_range=0.2,\n",
    "                                    fill_mode='nearest'\n",
    "\n",
    "                                  )"
   ]
  },
  {
   "cell_type": "code",
   "execution_count": 34,
   "metadata": {},
   "outputs": [
    {
     "name": "stdout",
     "output_type": "stream",
     "text": [
      "Found 260915 images belonging to 14 classes.\n",
      "Found 47531 images belonging to 14 classes.\n",
      "Found 137375 images belonging to 14 classes.\n"
     ]
    }
   ],
   "source": [
    "train_generator = train_datagen.flow_from_directory(\n",
    "    train_data_path,\n",
    "    target_size=input_shape,\n",
    "    batch_size=batch_size,\n",
    "    class_mode=\"categorical\",\n",
    ")\n",
    "\n",
    "validation_generator = validation_datagen.flow_from_directory(\n",
    "    validation_data_path,\n",
    "    target_size=input_shape,\n",
    "    batch_size=batch_size,\n",
    "    class_mode='categorical')\n",
    "\n",
    "test_generator = test_datagen.flow_from_directory(test_data_path,\n",
    "                                                  target_size=input_shape,\n",
    "                                                  batch_size=batch_size,\n",
    "                                                  class_mode='categorical',\n",
    "                                                  shuffle=True)"
   ]
  },
  {
   "cell_type": "code",
   "execution_count": 35,
   "metadata": {},
   "outputs": [
    {
     "name": "stdout",
     "output_type": "stream",
     "text": [
      "14\n",
      "14\n",
      "14\n"
     ]
    }
   ],
   "source": [
    "def tf_data_generator(generator, input_shape):\n",
    "    num_class = generator.num_classes\n",
    "    print(num_class)\n",
    "    tf_generator = tf.data.Dataset.from_generator(\n",
    "        lambda: generator,\n",
    "        output_types=(tf.float32, tf.float32),\n",
    "        output_shapes=([None, input_shape[0], input_shape[1]],\n",
    "                       [None, num_class])\n",
    "    )\n",
    "    return tf_generator\n",
    "\n",
    "\n",
    "train_data = tf_data_generator(train_generator, input_shape)\n",
    "test_data = tf_data_generator(test_generator, input_shape)\n",
    "val_data = tf_data_generator(validation_generator, input_shape)"
   ]
  },
  {
   "cell_type": "code",
   "execution_count": 36,
   "metadata": {},
   "outputs": [],
   "source": [
    "def create_model(img_width, img_height, num_classes):\n",
    "\n",
    "    model = Sequential([\n",
    "        # Conv2D(32, kernel_size=(3, 3), activation=\"relu\",\n",
    "        #        input_shape=(img_height, img_width, 3)),\n",
    "        # MaxPooling2D(pool_size=(2, 2)),\n",
    "        # Dropout(0.25),\n",
    "        \n",
    "        # Conv2D(64, kernel_size=(3, 3), activation='relu'),\n",
    "        # MaxPooling2D(pool_size=(2, 2)),\n",
    "        # Dropout(0.25),\n",
    "        \n",
    "        # Conv2D(128, kernel_size=(3, 3), activation='relu'),\n",
    "        # Dropout(0.4),\n",
    "        \n",
    "        # Flatten(),\n",
    "        # Dense(128, activation='relu'),\n",
    "        # Dropout(0.3),\n",
    "        # Dense(14, activation='softmax')\n",
    "        \n",
    "        tf.keras.layers.Conv2D(\n",
    "            8, (3, 3), activation='relu', input_shape=(img_width, img_height, 3)),\n",
    "        tf.keras.layers.Conv2D(8, (3, 3), activation='relu'),\n",
    "        tf.keras.layers.MaxPooling2D(2, 2),\n",
    "\n",
    "        tf.keras.layers.Conv2D(16, (3, 3), activation='relu'),\n",
    "        tf.keras.layers.Conv2D(16, (3, 3), activation='relu'),\n",
    "        tf.keras.layers.MaxPooling2D(2, 2),\n",
    "\n",
    "        tf.keras.layers.Conv2D(32, (3, 3), activation='relu'),\n",
    "        tf.keras.layers.Conv2D(32, (3, 3), activation='relu'),\n",
    "        tf.keras.layers.MaxPooling2D(2, 2),\n",
    "\n",
    "        tf.keras.layers.Conv2D(64, (3, 3), activation='relu'),\n",
    "        tf.keras.layers.Conv2D(64, (3, 3), activation='relu'),\n",
    "        tf.keras.layers.MaxPooling2D(2, 2),\n",
    "\n",
    "        tf.keras.layers.Flatten(),\n",
    "        tf.keras.layers.Dense(512, activation='relu'),\n",
    "        tf.keras.layers.Dropout(0.3),\n",
    "        tf.keras.layers.Dense(14, activation='softmax'),\n",
    "    ])\n",
    "\n",
    "    return model\n",
    "\n",
    "\n",
    "model = create_model(img_width, img_height, 14)"
   ]
  },
  {
   "cell_type": "code",
   "execution_count": 37,
   "metadata": {},
   "outputs": [],
   "source": [
    "model.compile(\n",
    "    loss=\"categorical_crossentropy\",\n",
    "    optimizer=\"adam\",\n",
    "    metrics=[\"accuracy\", \"categorical_crossentropy\"],\n",
    ")"
   ]
  },
  {
   "cell_type": "code",
   "execution_count": 38,
   "metadata": {},
   "outputs": [
    {
     "name": "stdout",
     "output_type": "stream",
     "text": [
      "You must install pydot (`pip install pydot`) and install graphviz (see instructions at https://graphviz.gitlab.io/download/) for plot_model to work.\n"
     ]
    }
   ],
   "source": [
    "model_viz = tf.keras.utils.plot_model(model,\n",
    "                                      to_file='model.png',\n",
    "                                      show_shapes=True,\n",
    "                                      show_layer_names=True,\n",
    "                                      rankdir='TB',\n",
    "                                      expand_nested=True,\n",
    "                                      dpi=55)\n",
    "model_viz"
   ]
  },
  {
   "cell_type": "code",
   "execution_count": 39,
   "metadata": {},
   "outputs": [
    {
     "name": "stdout",
     "output_type": "stream",
     "text": [
      "Epoch 1/20\n",
      "254/254 [==============================] - 112s 434ms/step - loss: 2.4857 - accuracy: 0.1487 - categorical_crossentropy: 2.4857 - val_loss: 2.4604 - val_accuracy: 0.1671 - val_categorical_crossentropy: 2.4604\n",
      "Epoch 2/20\n",
      "254/254 [==============================] - 109s 429ms/step - loss: 2.4739 - accuracy: 0.1564 - categorical_crossentropy: 2.4739 - val_loss: 2.4829 - val_accuracy: 0.1610 - val_categorical_crossentropy: 2.4829\n",
      "Epoch 3/20\n",
      "254/254 [==============================] - 109s 428ms/step - loss: 2.4556 - accuracy: 0.1684 - categorical_crossentropy: 2.4556 - val_loss: 2.4823 - val_accuracy: 0.1515 - val_categorical_crossentropy: 2.4823\n",
      "Epoch 4/20\n",
      "254/254 [==============================] - 108s 426ms/step - loss: 2.4639 - accuracy: 0.1629 - categorical_crossentropy: 2.4639 - val_loss: 2.4669 - val_accuracy: 0.1610 - val_categorical_crossentropy: 2.4669\n",
      "Epoch 5/20\n",
      "254/254 [==============================] - 110s 431ms/step - loss: 2.4550 - accuracy: 0.1761 - categorical_crossentropy: 2.4550 - val_loss: 2.4850 - val_accuracy: 0.1773 - val_categorical_crossentropy: 2.4850\n",
      "Epoch 6/20\n",
      "254/254 [==============================] - 109s 427ms/step - loss: 2.4328 - accuracy: 0.1896 - categorical_crossentropy: 2.4328 - val_loss: 2.4431 - val_accuracy: 0.1929 - val_categorical_crossentropy: 2.4431\n",
      "Epoch 7/20\n",
      "254/254 [==============================] - 109s 429ms/step - loss: 2.4458 - accuracy: 0.1791 - categorical_crossentropy: 2.4458 - val_loss: 2.4578 - val_accuracy: 0.1624 - val_categorical_crossentropy: 2.4578\n",
      "Epoch 8/20\n",
      "254/254 [==============================] - 108s 426ms/step - loss: 2.4319 - accuracy: 0.1909 - categorical_crossentropy: 2.4319 - val_loss: 2.4395 - val_accuracy: 0.1943 - val_categorical_crossentropy: 2.4395\n",
      "Epoch 9/20\n",
      "254/254 [==============================] - 107s 421ms/step - loss: 2.4196 - accuracy: 0.1913 - categorical_crossentropy: 2.4196 - val_loss: 2.4456 - val_accuracy: 0.1936 - val_categorical_crossentropy: 2.4456\n",
      "Epoch 10/20\n",
      "254/254 [==============================] - 111s 439ms/step - loss: 2.4167 - accuracy: 0.2008 - categorical_crossentropy: 2.4167 - val_loss: 2.4297 - val_accuracy: 0.1800 - val_categorical_crossentropy: 2.4297\n",
      "Epoch 11/20\n",
      "254/254 [==============================] - 107s 419ms/step - loss: 2.3983 - accuracy: 0.2078 - categorical_crossentropy: 2.3983 - val_loss: 2.3908 - val_accuracy: 0.2194 - val_categorical_crossentropy: 2.3908\n",
      "Epoch 12/20\n",
      "254/254 [==============================] - 107s 420ms/step - loss: 2.3837 - accuracy: 0.2168 - categorical_crossentropy: 2.3837 - val_loss: 2.4179 - val_accuracy: 0.2072 - val_categorical_crossentropy: 2.4179\n",
      "Epoch 13/20\n",
      "254/254 [==============================] - 109s 428ms/step - loss: 2.3889 - accuracy: 0.2089 - categorical_crossentropy: 2.3889 - val_loss: 2.3679 - val_accuracy: 0.2235 - val_categorical_crossentropy: 2.3679\n",
      "Epoch 14/20\n",
      "254/254 [==============================] - 108s 425ms/step - loss: 2.3631 - accuracy: 0.2221 - categorical_crossentropy: 2.3631 - val_loss: 2.3877 - val_accuracy: 0.2126 - val_categorical_crossentropy: 2.3877\n",
      "Epoch 15/20\n",
      "254/254 [==============================] - 109s 427ms/step - loss: 2.3721 - accuracy: 0.2173 - categorical_crossentropy: 2.3721 - val_loss: 2.3738 - val_accuracy: 0.2052 - val_categorical_crossentropy: 2.3738\n",
      "Epoch 16/20\n",
      "254/254 [==============================] - 109s 429ms/step - loss: 2.3530 - accuracy: 0.2254 - categorical_crossentropy: 2.3530 - val_loss: 2.3630 - val_accuracy: 0.2289 - val_categorical_crossentropy: 2.3630\n",
      "Epoch 17/20\n",
      "254/254 [==============================] - 108s 426ms/step - loss: 2.3506 - accuracy: 0.2227 - categorical_crossentropy: 2.3506 - val_loss: 2.3665 - val_accuracy: 0.2160 - val_categorical_crossentropy: 2.3665\n",
      "Epoch 18/20\n",
      "254/254 [==============================] - 108s 424ms/step - loss: 2.3382 - accuracy: 0.2346 - categorical_crossentropy: 2.3382 - val_loss: 2.3930 - val_accuracy: 0.2269 - val_categorical_crossentropy: 2.3930\n",
      "Epoch 19/20\n",
      "254/254 [==============================] - 109s 429ms/step - loss: 2.3287 - accuracy: 0.2393 - categorical_crossentropy: 2.3287 - val_loss: 2.3257 - val_accuracy: 0.2446 - val_categorical_crossentropy: 2.3257\n",
      "Epoch 20/20\n",
      "254/254 [==============================] - 109s 427ms/step - loss: 2.3379 - accuracy: 0.2324 - categorical_crossentropy: 2.3379 - val_loss: 2.3109 - val_accuracy: 0.2480 - val_categorical_crossentropy: 2.3109\n"
     ]
    }
   ],
   "source": [
    "from tensorflow.keras.callbacks import EarlyStopping\n",
    "early_stopping = EarlyStopping(monitor=\"val_loss\", patience=5)\n",
    "\n",
    "history1 = model.fit(\n",
    "    train_generator,\n",
    "    steps_per_epoch=len(train_generator) // train_generator.batch_size,\n",
    "    epochs=30,\n",
    "    validation_data=validation_generator,\n",
    "    validation_steps=len(\n",
    "        validation_generator) // validation_generator.batch_size,\n",
    "    callbacks=[early_stopping],\n",
    ")"
   ]
  },
  {
   "cell_type": "code",
   "execution_count": 40,
   "metadata": {},
   "outputs": [
    {
     "data": {
      "image/png": "[encoded data removed]",
      "text/plain": [
       "<Figure size 432x288 with 1 Axes>"
      ]
     },
     "metadata": {
      "needs_background": "light"
     },
     "output_type": "display_data"
    },
    {
     "data": {
      "image/png": "[encoded data removed]",
      "text/plain": [
       "<Figure size 432x288 with 1 Axes>"
      ]
     },
     "metadata": {
      "needs_background": "light"
     },
     "output_type": "display_data"
    }
   ],
   "source": [
    "import matplotlib.pyplot as plt\n",
    "%matplotlib inline\n",
    "\n",
    "accuracy = history1.history['accuracy']\n",
    "val_accuracy = history1.history['val_accuracy']\n",
    "loss = history1.history['loss']\n",
    "val_loss = history1.history['val_loss']\n",
    "epochs = range(len(accuracy))\n",
    "\n",
    "plt.plot(epochs, accuracy, 'bo', label='Training accuracy')\n",
    "plt.plot(epochs, val_accuracy, 'b', label='Validation accuracy')\n",
    "plt.title('Training and validation accuracy')\n",
    "plt.legend()\n",
    "plt.figure()\n",
    "\n",
    "plt.plot(epochs, loss, 'bo', label='Training loss')\n",
    "plt.plot(epochs, val_loss, 'b', label='Validation loss')\n",
    "plt.title('Training and validation loss')\n",
    "plt.legend()\n",
    "plt.show()"
   ]
  },
  {
   "cell_type": "code",
   "execution_count": null,
   "metadata": {},
   "outputs": [],
   "source": []
  }
 ],
 "metadata": {
  "kernelspec": {
   "display_name": "Python 3",
   "language": "python",
   "name": "python3"
  },
  "language_info": {
   "codemirror_mode": {
    "name": "ipython",
    "version": 3
   },
   "file_extension": ".py",
   "mimetype": "text/x-python",
   "name": "python",
   "nbconvert_exporter": "python",
   "pygments_lexer": "ipython3",
   "version": "3.10.0"
  }
 },
 "nbformat": 4,
 "nbformat_minor": 2
}
