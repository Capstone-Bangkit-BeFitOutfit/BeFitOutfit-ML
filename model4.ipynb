{
 "cells": [
  {
   "cell_type": "code",
   "execution_count": 6,
   "metadata": {},
   "outputs": [],
   "source": [
    "import os\n",
    "import zipfile\n",
    "# import random\n",
    "# import shutil\n",
    "import tensorflow as tf\n",
    "from tensorflow.keras import datasets, layers, models\n",
    "from tensorflow.keras.preprocessing.image import ImageDataGenerator\n",
    "# from shutil import copyfile\n",
    "# import matplotlib.pyplot as plt\n",
    "# import psutil\n",
    "# import time\n",
    "\n",
    "from tensorflow.keras.applications import VGG16\n",
    "from tensorflow.keras.preprocessing.image import ImageDataGenerator\n",
    "from tensorflow.keras.layers import Dense, Input, GlobalAveragePooling2D\n",
    "from tensorflow.keras.models import Model\n",
    "from keras.models import Sequential\n",
    "from keras.layers import Dense, Dropout, Flatten\n",
    "from keras.layers import Conv2D, MaxPooling2D"
   ]
  },
  {
   "cell_type": "code",
   "execution_count": 7,
   "metadata": {},
   "outputs": [],
   "source": [
    "train_data_path = \"train\"\n",
    "validation_data_path = \"valid\"\n",
    "test_data_path = \"test\""
   ]
  },
  {
   "cell_type": "code",
   "execution_count": 8,
   "metadata": {},
   "outputs": [],
   "source": [
    "img_width, img_height = 150, 150\n",
    "# channel = (3, )\n",
    "input_shape = (img_width, img_height)\n",
    "# input_shape = tf.expand_dims(input_shape , -1)\n",
    "batch_size = 64"
   ]
  },
  {
   "cell_type": "code",
   "execution_count": 9,
   "metadata": {},
   "outputs": [],
   "source": [
    "train_datagen = ImageDataGenerator(\n",
    "    rescale=1.0 / 255,\n",
    "    rotation_range=40,\n",
    "    width_shift_range=0.2,\n",
    "    height_shift_range=0.2,\n",
    "    horizontal_flip=True,\n",
    "    shear_range=0.2,\n",
    "    zoom_range=0.2,\n",
    "    fill_mode='nearest'\n",
    "\n",
    ")\n",
    "\n",
    "validation_datagen = ImageDataGenerator(\n",
    "    rescale=1.0 / 255,\n",
    "    rotation_range=40,\n",
    "    width_shift_range=0.2,\n",
    "    height_shift_range=0.2,\n",
    "    horizontal_flip=True,\n",
    "    shear_range=0.2,\n",
    "    zoom_range=0.2,\n",
    "    fill_mode='nearest'\n",
    "\n",
    ")\n",
    "\n",
    "test_datagen = ImageDataGenerator(rescale=1.0 / 255,\n",
    "                                  rotation_range=40,\n",
    "                                  width_shift_range=0.2,\n",
    "                                  height_shift_range=0.2,\n",
    "                                  horizontal_flip=True,\n",
    "                                  shear_range=0.2,\n",
    "                                  zoom_range=0.2,\n",
    "                                    fill_mode='nearest'\n",
    "\n",
    "                                  )"
   ]
  },
  {
   "cell_type": "code",
   "execution_count": 10,
   "metadata": {},
   "outputs": [
    {
     "name": "stdout",
     "output_type": "stream",
     "text": [
      "Found 260915 images belonging to 14 classes.\n",
      "Found 47531 images belonging to 14 classes.\n",
      "Found 137375 images belonging to 14 classes.\n"
     ]
    }
   ],
   "source": [
    "train_generator = train_datagen.flow_from_directory(\n",
    "    train_data_path,\n",
    "    target_size=input_shape,\n",
    "    batch_size=batch_size,\n",
    "    class_mode=\"categorical\",\n",
    ")\n",
    "\n",
    "validation_generator = validation_datagen.flow_from_directory(\n",
    "    validation_data_path,\n",
    "    target_size=input_shape,\n",
    "    batch_size=batch_size,\n",
    "    class_mode='categorical')\n",
    "\n",
    "test_generator = test_datagen.flow_from_directory(test_data_path,\n",
    "                                                  target_size=input_shape,\n",
    "                                                  batch_size=batch_size,\n",
    "                                                  class_mode='categorical',\n",
    "                                                  shuffle=True)"
   ]
  },
  {
   "cell_type": "code",
   "execution_count": 11,
   "metadata": {},
   "outputs": [],
   "source": [
    "# def tf_data_generator(generator, input_shape):\n",
    "#     num_class = generator.num_classes\n",
    "#     print(num_class)\n",
    "#     tf_generator = tf.data.Dataset.from_generator(\n",
    "#         lambda: generator,\n",
    "#         output_types=(tf.float32, tf.float32),\n",
    "#         output_shapes=([None, input_shape[0], input_shape[1]],\n",
    "#                        [None, num_class])\n",
    "#     )\n",
    "#     return tf_generator\n",
    "\n",
    "\n",
    "# train_data = tf_data_generator(train_generator, input_shape)\n",
    "# test_data = tf_data_generator(test_generator, input_shape)\n",
    "# val_data = tf_data_generator(validation_generator, input_shape)"
   ]
  },
  {
   "cell_type": "code",
   "execution_count": 12,
   "metadata": {},
   "outputs": [],
   "source": [
    "# def tf_data_generator(generator, input_shape):\n",
    "#   num_class = generator.num_classes\n",
    "#   print(num_class)\n",
    "#   tf_generator = tf.data.Dataset.from_generator(\n",
    "#       lambda: generator,\n",
    "#       output_types=(tf.float32, tf.float32),\n",
    "#       output_shapes=([None, *input_shape], [None, num_class])\n",
    "#   )\n",
    "#   return tf_generator\n",
    "\n",
    "\n",
    "# train_data = tf_data_generator(train_generator, input_shape)\n",
    "# test_data = tf_data_generator(test_generator, input_shape)\n",
    "# val_data = tf_data_generator(validation_generator, input_shape)"
   ]
  },
  {
   "cell_type": "code",
   "execution_count": 13,
   "metadata": {},
   "outputs": [
    {
     "name": "stdout",
     "output_type": "stream",
     "text": [
      "14\n",
      "14\n",
      "14\n"
     ]
    }
   ],
   "source": [
    "def tf_data_generator(generator, input_shape):\n",
    "  num_class = generator.num_classes\n",
    "  print(num_class)\n",
    "\n",
    "  # Define a separate function for generating data\n",
    "  def _generator():\n",
    "    for images, labels in generator:\n",
    "      yield images, labels\n",
    "\n",
    "  # Create the tf.data.Dataset from the non-decorated function\n",
    "  tf_generator = tf.data.Dataset.from_generator(\n",
    "      _generator,\n",
    "      output_types=(tf.float32, tf.float32),\n",
    "      output_shapes=([None, input_shape[0], input_shape[1], None],\n",
    "                     [None, num_class])\n",
    "  )\n",
    "\n",
    "  return tf_generator\n",
    "\n",
    "\n",
    "train_data = tf_data_generator(train_generator, input_shape)\n",
    "test_data = tf_data_generator(test_generator, input_shape)\n",
    "val_data = tf_data_generator(validation_generator, input_shape)"
   ]
  },
  {
   "cell_type": "code",
   "execution_count": 14,
   "metadata": {},
   "outputs": [],
   "source": [
    "def create_model(img_width, img_height, num_classes):\n",
    "\n",
    "    model = Sequential([\n",
    "        # tf.keras.layers.Conv2D(\n",
    "        #     8, (3, 3), activation='relu', input_shape=(img_width, img_height, 3)),\n",
    "        # tf.keras.layers.Conv2D(8, (3, 3), activation='relu'),\n",
    "        # tf.keras.layers.MaxPooling2D(2, 2),\n",
    "\n",
    "        # tf.keras.layers.Conv2D(16, (3, 3), activation='relu'),\n",
    "        # tf.keras.layers.Conv2D(16, (3, 3), activation='relu'),\n",
    "        # tf.keras.layers.MaxPooling2D(2, 2),\n",
    "\n",
    "        # tf.keras.layers.Conv2D(32, (3, 3), activation='relu'),\n",
    "        # tf.keras.layers.Conv2D(32, (3, 3), activation='relu'),\n",
    "        # tf.keras.layers.MaxPooling2D(2, 2),\n",
    "\n",
    "        # tf.keras.layers.Conv2D(64, (3, 3), activation='relu'),\n",
    "        # tf.keras.layers.Conv2D(64, (3, 3), activation='relu'),\n",
    "        # tf.keras.layers.MaxPooling2D(2, 2),\n",
    "        \n",
    "        tf.keras.layers.Conv2D(\n",
    "            32, (3, 3), activation='relu', input_shape=(img_width, img_height, 3), kernel_initializer='he_uniform'),\n",
    "        tf.keras.layers.MaxPooling2D(2, 2),\n",
    "        \n",
    "        tf.keras.layers.Conv2D(\n",
    "            64, (3, 3), activation='relu', kernel_initializer='he_uniform'),\n",
    "        tf.keras.layers.MaxPooling2D(2, 2),\n",
    "        \n",
    "        tf.keras.layers.Conv2D(\n",
    "            128, (3, 3), activation='relu', kernel_initializer='he_uniform'),\n",
    "        tf.keras.layers.MaxPooling2D(2, 2),\n",
    "        \n",
    "        tf.keras.layers.Conv2D(\n",
    "            256, (3, 3), activation='relu', kernel_initializer='he_uniform'),\n",
    "        tf.keras.layers.MaxPooling2D(2, 2),\n",
    "        \n",
    "        tf.keras.layers.Flatten(),\n",
    "        # tf.keras.layers.Dense(140, activation='relu',\n",
    "        #                       kernel_initializer='he_uniform'),\n",
    "        tf.keras.layers.Dense(512, activation='relu',\n",
    "                              kernel_initializer='he_uniform'),\n",
    "        tf.keras.layers.Dropout(0.3),\n",
    "        tf.keras.layers.Dense(14, activation='softmax'),\n",
    "    ])\n",
    "\n",
    "    return model\n",
    "\n",
    "\n",
    "model = create_model(img_width, img_height, 14)"
   ]
  },
  {
   "cell_type": "code",
   "execution_count": 15,
   "metadata": {},
   "outputs": [],
   "source": [
    "model.compile(\n",
    "    loss=\"categorical_crossentropy\",\n",
    "    optimizer=\"adam\",\n",
    "    metrics=[\"accuracy\", \"categorical_crossentropy\"],\n",
    ")"
   ]
  },
  {
   "cell_type": "code",
   "execution_count": 16,
   "metadata": {},
   "outputs": [],
   "source": [
    "import graphviz"
   ]
  },
  {
   "cell_type": "code",
   "execution_count": 17,
   "metadata": {},
   "outputs": [
    {
     "name": "stdout",
     "output_type": "stream",
     "text": [
      "You must install pydot (`pip install pydot`) and install graphviz (see instructions at https://graphviz.gitlab.io/download/) for plot_model to work.\n"
     ]
    }
   ],
   "source": [
    "model_viz = tf.keras.utils.plot_model(model,\n",
    "                                      to_file='model.png',\n",
    "                                      show_shapes=True,\n",
    "                                      show_layer_names=True,\n",
    "                                      rankdir='TB',\n",
    "                                      expand_nested=True,\n",
    "                                      dpi=55)\n",
    "model_viz"
   ]
  },
  {
   "cell_type": "code",
   "execution_count": 18,
   "metadata": {},
   "outputs": [
    {
     "name": "stdout",
     "output_type": "stream",
     "text": [
      "Epoch 1/30\n",
      "63/63 [==============================] - 79s 1s/step - loss: 2.9536 - accuracy: 0.1310 - categorical_crossentropy: 2.9536 - val_loss: 2.5089 - val_accuracy: 0.1733 - val_categorical_crossentropy: 2.5089\n",
      "Epoch 2/30\n",
      "63/63 [==============================] - 77s 1s/step - loss: 2.4498 - accuracy: 0.1746 - categorical_crossentropy: 2.4498 - val_loss: 2.4623 - val_accuracy: 0.1463 - val_categorical_crossentropy: 2.4623\n",
      "Epoch 3/30\n",
      "63/63 [==============================] - 75s 1s/step - loss: 2.4344 - accuracy: 0.1877 - categorical_crossentropy: 2.4344 - val_loss: 2.4263 - val_accuracy: 0.1619 - val_categorical_crossentropy: 2.4263\n",
      "Epoch 4/30\n",
      "63/63 [==============================] - 72s 1s/step - loss: 2.4012 - accuracy: 0.1880 - categorical_crossentropy: 2.4012 - val_loss: 2.4504 - val_accuracy: 0.2259 - val_categorical_crossentropy: 2.4504\n",
      "Epoch 5/30\n",
      "63/63 [==============================] - 71s 1s/step - loss: 2.3851 - accuracy: 0.2098 - categorical_crossentropy: 2.3851 - val_loss: 2.3890 - val_accuracy: 0.2244 - val_categorical_crossentropy: 2.3890\n",
      "Epoch 6/30\n",
      "63/63 [==============================] - 71s 1s/step - loss: 2.3806 - accuracy: 0.2148 - categorical_crossentropy: 2.3806 - val_loss: 2.3864 - val_accuracy: 0.1889 - val_categorical_crossentropy: 2.3864\n",
      "Epoch 7/30\n",
      "63/63 [==============================] - 72s 1s/step - loss: 2.3644 - accuracy: 0.2225 - categorical_crossentropy: 2.3644 - val_loss: 2.3399 - val_accuracy: 0.2472 - val_categorical_crossentropy: 2.3399\n",
      "Epoch 8/30\n",
      "63/63 [==============================] - 71s 1s/step - loss: 2.3579 - accuracy: 0.2240 - categorical_crossentropy: 2.3579 - val_loss: 2.3236 - val_accuracy: 0.2259 - val_categorical_crossentropy: 2.3236\n",
      "Epoch 9/30\n",
      "63/63 [==============================] - 70s 1s/step - loss: 2.3249 - accuracy: 0.2460 - categorical_crossentropy: 2.3249 - val_loss: 2.3074 - val_accuracy: 0.2585 - val_categorical_crossentropy: 2.3074\n",
      "Epoch 10/30\n",
      "63/63 [==============================] - 71s 1s/step - loss: 2.3312 - accuracy: 0.2307 - categorical_crossentropy: 2.3312 - val_loss: 2.3392 - val_accuracy: 0.2259 - val_categorical_crossentropy: 2.3392\n",
      "Epoch 11/30\n",
      "63/63 [==============================] - 69s 1s/step - loss: 2.3029 - accuracy: 0.2346 - categorical_crossentropy: 2.3029 - val_loss: 2.3569 - val_accuracy: 0.2259 - val_categorical_crossentropy: 2.3569\n",
      "Epoch 12/30\n",
      "63/63 [==============================] - 70s 1s/step - loss: 2.3084 - accuracy: 0.2426 - categorical_crossentropy: 2.3084 - val_loss: 2.2761 - val_accuracy: 0.2670 - val_categorical_crossentropy: 2.2761\n",
      "Epoch 13/30\n",
      "63/63 [==============================] - 69s 1s/step - loss: 2.3084 - accuracy: 0.2460 - categorical_crossentropy: 2.3084 - val_loss: 2.3098 - val_accuracy: 0.2358 - val_categorical_crossentropy: 2.3098\n",
      "Epoch 14/30\n",
      "63/63 [==============================] - 69s 1s/step - loss: 2.3131 - accuracy: 0.2334 - categorical_crossentropy: 2.3131 - val_loss: 2.3145 - val_accuracy: 0.2344 - val_categorical_crossentropy: 2.3145\n",
      "Epoch 15/30\n",
      "63/63 [==============================] - 68s 1s/step - loss: 2.2893 - accuracy: 0.2480 - categorical_crossentropy: 2.2893 - val_loss: 2.2476 - val_accuracy: 0.2713 - val_categorical_crossentropy: 2.2476\n",
      "Epoch 16/30\n",
      "63/63 [==============================] - 69s 1s/step - loss: 2.2656 - accuracy: 0.2572 - categorical_crossentropy: 2.2656 - val_loss: 2.3185 - val_accuracy: 0.2429 - val_categorical_crossentropy: 2.3185\n",
      "Epoch 17/30\n",
      "63/63 [==============================] - 68s 1s/step - loss: 2.2899 - accuracy: 0.2502 - categorical_crossentropy: 2.2899 - val_loss: 2.3106 - val_accuracy: 0.2443 - val_categorical_crossentropy: 2.3106\n",
      "Epoch 18/30\n",
      "63/63 [==============================] - 68s 1s/step - loss: 2.2609 - accuracy: 0.2579 - categorical_crossentropy: 2.2609 - val_loss: 2.2860 - val_accuracy: 0.2457 - val_categorical_crossentropy: 2.2860\n"
     ]
    }
   ],
   "source": [
    "from tensorflow.keras.callbacks import EarlyStopping\n",
    "early_stopping = EarlyStopping(monitor=\"val_loss\", patience=3)\n",
    "\n",
    "history1 = model.fit(\n",
    "    train_data,\n",
    "    steps_per_epoch=len(train_generator) // train_generator.batch_size,\n",
    "    epochs=30,\n",
    "    validation_data=val_data,\n",
    "    validation_steps=len(\n",
    "        validation_generator) // validation_generator.batch_size,\n",
    "    callbacks=[early_stopping],\n",
    ")\n",
    "# history1 = model.fit(\n",
    "#     train_generator,\n",
    "#     steps_per_epoch=len(train_generator) // train_generator.batch_size,\n",
    "#     epochs=30,\n",
    "#     validation_data=validation_generator,\n",
    "#     validation_steps=len(\n",
    "#         validation_generator) // validation_generator.batch_size,\n",
    "#     callbacks=[early_stopping],\n",
    "# )"
   ]
  },
  {
   "cell_type": "code",
   "execution_count": 19,
   "metadata": {},
   "outputs": [],
   "source": [
    "#  0.2639 "
   ]
  },
  {
   "cell_type": "code",
   "execution_count": 20,
   "metadata": {},
   "outputs": [
    {
     "data": {
      "image/png": "[encoded data removed]",
      "text/plain": [
       "<Figure size 432x288 with 1 Axes>"
      ]
     },
     "metadata": {
      "needs_background": "light"
     },
     "output_type": "display_data"
    },
    {
     "data": {
      "image/png": "[encoded data removed]",
      "text/plain": [
       "<Figure size 432x288 with 1 Axes>"
      ]
     },
     "metadata": {
      "needs_background": "light"
     },
     "output_type": "display_data"
    }
   ],
   "source": [
    "import matplotlib.pyplot as plt\n",
    "%matplotlib inline\n",
    "\n",
    "accuracy = history1.history['accuracy']\n",
    "val_accuracy = history1.history['val_accuracy']\n",
    "loss = history1.history['loss']\n",
    "val_loss = history1.history['val_loss']\n",
    "epochs = range(len(accuracy))\n",
    "\n",
    "plt.plot(epochs, accuracy, 'bo', label='Training accuracy')\n",
    "plt.plot(epochs, val_accuracy, 'b', label='Validation accuracy')\n",
    "plt.title('Training and validation accuracy')\n",
    "plt.legend()\n",
    "plt.figure()\n",
    "\n",
    "plt.plot(epochs, loss, 'bo', label='Training loss')\n",
    "plt.plot(epochs, val_loss, 'b', label='Validation loss')\n",
    "plt.title('Training and validation loss')\n",
    "plt.legend()\n",
    "plt.show()"
   ]
  },
  {
   "cell_type": "code",
   "execution_count": 21,
   "metadata": {},
   "outputs": [
    {
     "name": "stderr",
     "output_type": "stream",
     "text": [
      "c:\\Users\\aditr\\AppData\\Local\\Programs\\Python\\Python310\\lib\\site-packages\\keras\\src\\engine\\training.py:3000: UserWarning: You are saving your model as an HDF5 file via `model.save()`. This file format is considered legacy. We recommend using instead the native Keras format, e.g. `model.save('my_model.keras')`.\n",
      "  saving_api.save_model(\n"
     ]
    }
   ],
   "source": [
    "model.save('model.h5', include_optimizer=True)"
   ]
  },
  {
   "cell_type": "code",
   "execution_count": 22,
   "metadata": {},
   "outputs": [],
   "source": [
    "# model.evaluate(\n",
    "#     train_generator,\n",
    "#     steps=len(train_generator) // train_generator.batch_size,\n",
    "#     verbose=0\n",
    "# )\n",
    "\n",
    "# print(f\"Test accuracy: {acc:.4f}, Test loss: {loss:.4f}\")"
   ]
  },
  {
   "cell_type": "code",
   "execution_count": 23,
   "metadata": {},
   "outputs": [],
   "source": [
    "# model.evaluate(\n",
    "#     test_generator,\n",
    "#     steps=len(test_generator) // test_generator.batch_size,\n",
    "#     verbose=0\n",
    "# )"
   ]
  },
  {
   "cell_type": "code",
   "execution_count": 24,
   "metadata": {},
   "outputs": [],
   "source": [
    "import requests\n",
    "from io import BytesIO\n",
    "\n",
    "from PIL import Image\n",
    "import numpy as np"
   ]
  },
  {
   "cell_type": "code",
   "execution_count": 25,
   "metadata": {},
   "outputs": [],
   "source": [
    "# Parameters\n",
    "input_size = (150, 150)\n",
    "\n",
    "# define input shape\n",
    "channel = (3,)\n",
    "input_shape = input_size + channel\n",
    "\n",
    "# define labels\n",
    "labels = [\"concert\", \"graduation\", \"meeting\", \"mountain-trip\", \"picnic\",\n",
    "                    \"sea-holiday\", \"ski-holiday\", \"wedding\", \"conference\", \"exhibition\", \"fashion\",\n",
    "                    \"protest\", \"sport\", \"theater-dance\"]"
   ]
  },
  {
   "cell_type": "code",
   "execution_count": 26,
   "metadata": {},
   "outputs": [],
   "source": [
    "def preprocess(img, input_size):\n",
    "    nimg = img.convert('RGB').resize(input_size, resample=0)\n",
    "    img_arr = (np.array(nimg))/255\n",
    "    return img_arr\n",
    "\n",
    "\n",
    "def reshape(imgs_arr):\n",
    "    return np.stack(imgs_arr, axis=0)"
   ]
  },
  {
   "cell_type": "code",
   "execution_count": 27,
   "metadata": {},
   "outputs": [],
   "source": [
    "from tensorflow.keras.models import load_model"
   ]
  },
  {
   "cell_type": "code",
   "execution_count": 55,
   "metadata": {},
   "outputs": [],
   "source": [
    "# ada 2 cara load model, jika cara pertama berhasil maka bisa lasngusng di lanjutkan ke fungsi prediksi\n",
    "\n",
    "MODEL_PATH = 'model.h5'\n",
    "model = load_model(MODEL_PATH, compile=False)"
   ]
  },
  {
   "cell_type": "code",
   "execution_count": 56,
   "metadata": {},
   "outputs": [
    {
     "name": "stdout",
     "output_type": "stream",
     "text": [
      "1/1 [==============================] - 0s 73ms/step\n",
      "meeting 0.16331142\n"
     ]
    }
   ],
   "source": [
    "im = Image.open('3.jpg')\n",
    "X = preprocess(im, input_size)\n",
    "X = reshape([X])\n",
    "y = model.predict(X)\n",
    "\n",
    "print(labels[np.argmax(y)], np.max(y) )"
   ]
  },
  {
   "cell_type": "code",
   "execution_count": null,
   "metadata": {},
   "outputs": [],
   "source": []
  }
 ],
 "metadata": {
  "kernelspec": {
   "display_name": "Python 3",
   "language": "python",
   "name": "python3"
  },
  "language_info": {
   "codemirror_mode": {
    "name": "ipython",
    "version": 3
   },
   "file_extension": ".py",
   "mimetype": "text/x-python",
   "name": "python",
   "nbconvert_exporter": "python",
   "pygments_lexer": "ipython3",
   "version": "3.10.0"
  }
 },
 "nbformat": 4,
 "nbformat_minor": 2
}
